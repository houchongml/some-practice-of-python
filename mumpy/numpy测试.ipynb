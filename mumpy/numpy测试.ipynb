{
 "cells": [
  {
   "cell_type": "code",
   "execution_count": 2,
   "id": "5af763a6",
   "metadata": {},
   "outputs": [
    {
     "data": {
      "text/plain": [
       "'1.21.5'"
      ]
     },
     "execution_count": 2,
     "metadata": {},
     "output_type": "execute_result"
    }
   ],
   "source": [
    "import numpy as np\n",
    "np.__version__"
   ]
  },
  {
   "cell_type": "code",
   "execution_count": 3,
   "id": "256eee69",
   "metadata": {},
   "outputs": [],
   "source": [
    "def python_sum(n):\n",
    "    '''\n",
    "    原生环境下的求和\n",
    "    '''\n",
    "    a=[i**2 for i in range(n)]\n",
    "    b=[i**3 for i in range(n)]\n",
    "    absum= []\n",
    "    for i in range(n):\n",
    "        absum.append(a[i]+b[i])\n",
    "        pass\n",
    "    return absum"
   ]
  },
  {
   "cell_type": "code",
   "execution_count": 4,
   "id": "b16e774c",
   "metadata": {},
   "outputs": [
    {
     "data": {
      "text/plain": [
       "[0, 2, 12, 36, 80, 150, 252, 392, 576, 810]"
      ]
     },
     "execution_count": 4,
     "metadata": {},
     "output_type": "execute_result"
    }
   ],
   "source": [
    "python_sum(10)"
   ]
  },
  {
   "cell_type": "code",
   "execution_count": 5,
   "id": "41dc137f",
   "metadata": {},
   "outputs": [],
   "source": [
    "def np_sum(n):\n",
    "    '''\n",
    "    numpy 的做法\n",
    "    '''\n",
    "    a=np.arange(n)**2\n",
    "    b=np.arange(n)**3\n",
    "    return a+b"
   ]
  },
  {
   "cell_type": "code",
   "execution_count": 6,
   "id": "93cf86d9",
   "metadata": {},
   "outputs": [
    {
     "data": {
      "text/plain": [
       "array([  0,   2,  12,  36,  80, 150, 252, 392, 576, 810])"
      ]
     },
     "execution_count": 6,
     "metadata": {},
     "output_type": "execute_result"
    }
   ],
   "source": [
    "np_sum(10)"
   ]
  },
  {
   "cell_type": "markdown",
   "id": "a81bcf06",
   "metadata": {},
   "source": [
    "##对比实现1000次"
   ]
  },
  {
   "cell_type": "code",
   "execution_count": 7,
   "id": "e400edbf",
   "metadata": {},
   "outputs": [
    {
     "name": "stdout",
     "output_type": "stream",
     "text": [
      "473 µs ± 2.59 µs per loop (mean ± std. dev. of 7 runs, 1000 loops each)\n"
     ]
    }
   ],
   "source": [
    "%timeit python_sum(1000)"
   ]
  },
  {
   "cell_type": "code",
   "execution_count": 8,
   "id": "29956ea5",
   "metadata": {},
   "outputs": [
    {
     "name": "stdout",
     "output_type": "stream",
     "text": [
      "4.45 µs ± 97.7 ns per loop (mean ± std. dev. of 7 runs, 100000 loops each)\n"
     ]
    }
   ],
   "source": [
    "%timeit np_sum(1000)"
   ]
  },
  {
   "cell_type": "markdown",
   "id": "448fcb26",
   "metadata": {},
   "source": [
    "# 对比实现100000"
   ]
  },
  {
   "cell_type": "code",
   "execution_count": 9,
   "id": "3555c8e9",
   "metadata": {},
   "outputs": [
    {
     "name": "stdout",
     "output_type": "stream",
     "text": [
      "525 ms ± 3.94 ms per loop (mean ± std. dev. of 7 runs, 1 loop each)\n"
     ]
    }
   ],
   "source": [
    "%timeit python_sum(1000000)"
   ]
  },
  {
   "cell_type": "code",
   "execution_count": 10,
   "id": "b7c35657",
   "metadata": {},
   "outputs": [
    {
     "name": "stdout",
     "output_type": "stream",
     "text": [
      "2.26 ms ± 15.3 µs per loop (mean ± std. dev. of 7 runs, 100 loops each)\n"
     ]
    }
   ],
   "source": [
    "%timeit np_sum(1000000)"
   ]
  },
  {
   "cell_type": "code",
   "execution_count": null,
   "id": "8cd3e06b",
   "metadata": {},
   "outputs": [],
   "source": []
  }
 ],
 "metadata": {
  "kernelspec": {
   "display_name": "torch1",
   "language": "python",
   "name": "python3"
  },
  "language_info": {
   "codemirror_mode": {
    "name": "ipython",
    "version": 3
   },
   "file_extension": ".py",
   "mimetype": "text/x-python",
   "name": "python",
   "nbconvert_exporter": "python",
   "pygments_lexer": "ipython3",
   "version": "3.9.15 (main, Nov 24 2022, 08:29:02) \n[Clang 14.0.6 ]"
  },
  "vscode": {
   "interpreter": {
    "hash": "841c84eeb6767aff07a8f3af0e117ab32e26dabb67579ddfee3fcde6336f15a7"
   }
  }
 },
 "nbformat": 4,
 "nbformat_minor": 5
}
