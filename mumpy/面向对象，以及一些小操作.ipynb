{
 "cells": [
  {
   "cell_type": "code",
   "execution_count": 1,
   "metadata": {},
   "outputs": [],
   "source": [
    "class Phone:\n",
    "    def __init__(self,os,number, is_waterproof):\n",
    "        self.os = os \n",
    "        self.number = number \n",
    "        self.is_waterproof = is_waterproof\n",
    "\n",
    "    def is_ios(self):\n",
    "        if self.os == 'ios':\n",
    "            return True\n",
    "        else:\n",
    "            return False"
   ]
  },
  {
   "cell_type": "code",
   "execution_count": 2,
   "metadata": {},
   "outputs": [],
   "source": [
    "phone1 = Phone('ios',123, True)\n"
   ]
  },
  {
   "cell_type": "code",
   "execution_count": 3,
   "metadata": {},
   "outputs": [
    {
     "data": {
      "text/plain": [
       "True"
      ]
     },
     "execution_count": 3,
     "metadata": {},
     "output_type": "execute_result"
    }
   ],
   "source": [
    "phone1.is_ios()"
   ]
  },
  {
   "cell_type": "code",
   "execution_count": 4,
   "metadata": {},
   "outputs": [],
   "source": [
    "#多态 Polymorphism\n",
    "class Animal():\n",
    "    def __init__(self, name):\n",
    "        self.name = name \n",
    "    def greet(self):\n",
    "        print(f'Hello, I am {self.name}')\n",
    "\n",
    "class Dog(Animal):\n",
    "    def geet(self):\n",
    "        print(f'wangwang, I am {self.name}')\n",
    "\n",
    "class Cat(Animal):\n",
    "    def greet(self):\n",
    "        print(f'miao miao', {self.name})\n",
    "\n",
    "def hello(animal):\n",
    "    animal.greet()"
   ]
  },
  {
   "cell_type": "code",
   "execution_count": 5,
   "metadata": {},
   "outputs": [
    {
     "name": "stdout",
     "output_type": "stream",
     "text": [
      "Hello, I am dog\n"
     ]
    }
   ],
   "source": [
    "dog = Dog('dog')\n",
    "hello(dog)"
   ]
  },
  {
   "cell_type": "code",
   "execution_count": 6,
   "metadata": {},
   "outputs": [
    {
     "name": "stdout",
     "output_type": "stream",
     "text": [
      "miao miao {'cat'}\n"
     ]
    }
   ],
   "source": [
    "cat = Cat('cat')\n",
    "hello(cat)"
   ]
  },
  {
   "cell_type": "code",
   "execution_count": 2,
   "metadata": {},
   "outputs": [
    {
     "name": "stdout",
     "output_type": "stream",
     "text": [
      "my name is alice and i am 25 years old\n"
     ]
    }
   ],
   "source": [
    "# f-string 是一种用于格式化字符串的语法\n",
    "name = 'alice'\n",
    "age = 25\n",
    "message = f'my name is {name} and i am {age} years old'\n",
    "print(message)"
   ]
  },
  {
   "cell_type": "code",
   "execution_count": 3,
   "metadata": {},
   "outputs": [
    {
     "data": {
      "text/plain": [
       "'the result of 2+3 is 5'"
      ]
     },
     "execution_count": 3,
     "metadata": {},
     "output_type": "execute_result"
    }
   ],
   "source": [
    "# 也可以使用表达式插入字符串\n",
    "result = f'the result of 2+3 is {2+3}'\n",
    "result"
   ]
  },
  {
   "cell_type": "code",
   "execution_count": null,
   "metadata": {},
   "outputs": [],
   "source": []
  }
 ],
 "metadata": {
  "kernelspec": {
   "display_name": "torch",
   "language": "python",
   "name": "python3"
  },
  "language_info": {
   "codemirror_mode": {
    "name": "ipython",
    "version": 3
   },
   "file_extension": ".py",
   "mimetype": "text/x-python",
   "name": "python",
   "nbconvert_exporter": "python",
   "pygments_lexer": "ipython3",
   "version": "3.9.16"
  },
  "orig_nbformat": 4
 },
 "nbformat": 4,
 "nbformat_minor": 2
}
