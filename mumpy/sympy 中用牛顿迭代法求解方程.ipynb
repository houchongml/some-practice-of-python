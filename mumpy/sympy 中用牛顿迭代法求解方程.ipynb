{
 "cells": [
  {
   "cell_type": "code",
   "execution_count": 2,
   "metadata": {},
   "outputs": [],
   "source": [
    "from sympy import *"
   ]
  },
  {
   "cell_type": "code",
   "execution_count": 6,
   "metadata": {},
   "outputs": [
    {
     "name": "stdout",
     "output_type": "stream",
     "text": [
      "f 的第6次后,误差为0\n",
      "root is : 0.567143290409784\n"
     ]
    }
   ],
   "source": [
    "x=symbols('x')\n",
    "x0=0.5\n",
    "x_list=[x0]\n",
    "i=0\n",
    "def f(x):\n",
    "    f=x*exp(x)-1\n",
    "    return f\n",
    "    pass\n",
    "while True:\n",
    "    if diff(f(x),x).subs(x,x0)==0:\n",
    "        print('极值点是：',x0)\n",
    "        break\n",
    "    else:\n",
    "        x0=x0-f(x0)/diff(f(x),x).subs(x,x0)\n",
    "        x_list.append(x0)\n",
    "        pass\n",
    "    if len(x_list)>1:\n",
    "        i+=1\n",
    "        err=abs(x_list[-1]-x_list[-2])\n",
    "        if err==0:\n",
    "            print('f 的第%d次后,误差为0'%i)\n",
    "            break\n",
    "        else:\n",
    "            pass\n",
    "    pass\n",
    "print('root is :',x_list[-1])\n"
   ]
  },
  {
   "cell_type": "code",
   "execution_count": 4,
   "metadata": {},
   "outputs": [
    {
     "ename": "NameError",
     "evalue": "name 'exp' is not defined",
     "output_type": "error",
     "traceback": [
      "\u001b[0;31m---------------------------------------------------------------------------\u001b[0m",
      "\u001b[0;31mNameError\u001b[0m                                 Traceback (most recent call last)",
      "Cell \u001b[0;32mIn[4], line 1\u001b[0m\n\u001b[0;32m----> 1\u001b[0m exp(x)\u001b[39m-\u001b[39m\u001b[39m1\u001b[39m\n",
      "\u001b[0;31mNameError\u001b[0m: name 'exp' is not defined"
     ]
    }
   ],
   "source": []
  }
 ],
 "metadata": {
  "kernelspec": {
   "display_name": "torch1",
   "language": "python",
   "name": "python3"
  },
  "language_info": {
   "codemirror_mode": {
    "name": "ipython",
    "version": 3
   },
   "file_extension": ".py",
   "mimetype": "text/x-python",
   "name": "python",
   "nbconvert_exporter": "python",
   "pygments_lexer": "ipython3",
   "version": "3.9.15"
  },
  "orig_nbformat": 4,
  "vscode": {
   "interpreter": {
    "hash": "841c84eeb6767aff07a8f3af0e117ab32e26dabb67579ddfee3fcde6336f15a7"
   }
  }
 },
 "nbformat": 4,
 "nbformat_minor": 2
}
