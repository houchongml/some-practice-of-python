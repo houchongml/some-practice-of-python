{
 "cells": [
  {
   "attachments": {},
   "cell_type": "markdown",
   "metadata": {},
   "source": [
    "对$f(x)=\\frac{1}{1+x^2}$进行lagerange 差值，看龙格现象"
   ]
  },
  {
   "cell_type": "code",
   "execution_count": 11,
   "metadata": {},
   "outputs": [],
   "source": [
    "import numpy as np\n",
    "import matplotlib.pyplot as plt \n",
    "import math"
   ]
  },
  {
   "cell_type": "code",
   "execution_count": 2,
   "metadata": {},
   "outputs": [],
   "source": [
    "def lagrange(x,y,z):\n",
    "    n=len(x)\n",
    "    y1=[ ]\n",
    "    p=0\n",
    "    for k in z:\n",
    "        for i in range(n):\n",
    "            pt=y[i]\n",
    "            for j in range(n):\n",
    "                if j==i:\n",
    "                    continue\n",
    "                frac=x[i]-x[j]\n",
    "                pt*=np.poly1d([1.0,-x[j]])(k)/frac\n",
    "                pass\n",
    "            p+=pt\n",
    "            pass\n",
    "        y1.append(p)\n",
    "        pass\n",
    "    return y1\n",
    "\n",
    "    \n",
    "\n"
   ]
  },
  {
   "cell_type": "markdown",
   "metadata": {},
   "source": []
  },
  {
   "cell_type": "code",
   "execution_count": 3,
   "metadata": {},
   "outputs": [
    {
     "name": "stdout",
     "output_type": "stream",
     "text": [
      "[-5.         -4.94974874 -4.89949749 -4.84924623 -4.79899497 -4.74874372\n",
      " -4.69849246 -4.64824121 -4.59798995 -4.54773869 -4.49748744 -4.44723618\n",
      " -4.39698492 -4.34673367 -4.29648241 -4.24623116 -4.1959799  -4.14572864\n",
      " -4.09547739 -4.04522613 -3.99497487 -3.94472362 -3.89447236 -3.84422111\n",
      " -3.79396985 -3.74371859 -3.69346734 -3.64321608 -3.59296482 -3.54271357\n",
      " -3.49246231 -3.44221106 -3.3919598  -3.34170854 -3.29145729 -3.24120603\n",
      " -3.19095477 -3.14070352 -3.09045226 -3.04020101 -2.98994975 -2.93969849\n",
      " -2.88944724 -2.83919598 -2.78894472 -2.73869347 -2.68844221 -2.63819095\n",
      " -2.5879397  -2.53768844 -2.48743719 -2.43718593 -2.38693467 -2.33668342\n",
      " -2.28643216 -2.2361809  -2.18592965 -2.13567839 -2.08542714 -2.03517588\n",
      " -1.98492462 -1.93467337 -1.88442211 -1.83417085 -1.7839196  -1.73366834\n",
      " -1.68341709 -1.63316583 -1.58291457 -1.53266332 -1.48241206 -1.4321608\n",
      " -1.38190955 -1.33165829 -1.28140704 -1.23115578 -1.18090452 -1.13065327\n",
      " -1.08040201 -1.03015075 -0.9798995  -0.92964824 -0.87939698 -0.82914573\n",
      " -0.77889447 -0.72864322 -0.67839196 -0.6281407  -0.57788945 -0.52763819\n",
      " -0.47738693 -0.42713568 -0.37688442 -0.32663317 -0.27638191 -0.22613065\n",
      " -0.1758794  -0.12562814 -0.07537688 -0.02512563  0.02512563  0.07537688\n",
      "  0.12562814  0.1758794   0.22613065  0.27638191  0.32663317  0.37688442\n",
      "  0.42713568  0.47738693  0.52763819  0.57788945  0.6281407   0.67839196\n",
      "  0.72864322  0.77889447  0.82914573  0.87939698  0.92964824  0.9798995\n",
      "  1.03015075  1.08040201  1.13065327  1.18090452  1.23115578  1.28140704\n",
      "  1.33165829  1.38190955  1.4321608   1.48241206  1.53266332  1.58291457\n",
      "  1.63316583  1.68341709  1.73366834  1.7839196   1.83417085  1.88442211\n",
      "  1.93467337  1.98492462  2.03517588  2.08542714  2.13567839  2.18592965\n",
      "  2.2361809   2.28643216  2.33668342  2.38693467  2.43718593  2.48743719\n",
      "  2.53768844  2.5879397   2.63819095  2.68844221  2.73869347  2.78894472\n",
      "  2.83919598  2.88944724  2.93969849  2.98994975  3.04020101  3.09045226\n",
      "  3.14070352  3.19095477  3.24120603  3.29145729  3.34170854  3.3919598\n",
      "  3.44221106  3.49246231  3.54271357  3.59296482  3.64321608  3.69346734\n",
      "  3.74371859  3.79396985  3.84422111  3.89447236  3.94472362  3.99497487\n",
      "  4.04522613  4.09547739  4.14572864  4.1959799   4.24623116  4.29648241\n",
      "  4.34673367  4.39698492  4.44723618  4.49748744  4.54773869  4.59798995\n",
      "  4.64824121  4.69849246  4.74874372  4.79899497  4.84924623  4.89949749\n",
      "  4.94974874  5.        ]\n"
     ]
    },
    {
     "data": {
      "text/plain": [
       "[<matplotlib.lines.Line2D at 0x7ff3a0de1e50>,\n",
       " <matplotlib.lines.Line2D at 0x7ff3a0de1ee0>]"
      ]
     },
     "execution_count": 3,
     "metadata": {},
     "output_type": "execute_result"
    },
    {
     "data": {
      "image/png": "[encoded data removed]",
      "text/plain": [
       "<Figure size 640x480 with 1 Axes>"
      ]
     },
     "metadata": {},
     "output_type": "display_data"
    }
   ],
   "source": [
    "x=np.linspace(-5,5,5)\n",
    "def f(x):\n",
    "    return 1/(1+x**2)\n",
    "    pass\n",
    "y=f(x)\n",
    "x1=np.linspace(-5,5,200)\n",
    "print(x1)\n",
    "y11=f(x1)\n",
    "y1=lagrange(x,y,x1)\n",
    "\n",
    "plt.plot(x1,y11,'--r',x1,y1,'-b')\n"
   ]
  },
  {
   "cell_type": "code",
   "execution_count": 4,
   "metadata": {},
   "outputs": [
    {
     "ename": "TypeError",
     "evalue": "lagrange() missing 1 required positional argument: 'z'",
     "output_type": "error",
     "traceback": [
      "\u001b[0;31m---------------------------------------------------------------------------\u001b[0m",
      "\u001b[0;31mTypeError\u001b[0m                                 Traceback (most recent call last)",
      "Cell \u001b[0;32mIn[4], line 1\u001b[0m\n\u001b[0;32m----> 1\u001b[0m lagrange(x,y)\n",
      "\u001b[0;31mTypeError\u001b[0m: lagrange() missing 1 required positional argument: 'z'"
     ]
    }
   ],
   "source": [
    "lagrange(x,y)"
   ]
  },
  {
   "cell_type": "code",
   "execution_count": null,
   "metadata": {},
   "outputs": [
    {
     "name": "stdout",
     "output_type": "stream",
     "text": [
      " \n",
      "1 x + 2\n",
      "   2\n",
      "1 x + 2 x\n",
      "aaa= 4\n",
      "4\n",
      "   2\n",
      "1 x + 4 x + 2\n"
     ]
    },
    {
     "data": {
      "text/plain": [
       "7"
      ]
     },
     "execution_count": 17,
     "metadata": {},
     "output_type": "execute_result"
    }
   ],
   "source": [
    "\n",
    "a=np.poly1d([1,2])\n",
    "print(a)\n",
    "a=a*np.poly1d([1,0])\n",
    "print(a)\n",
    "print('aaa=',np.poly1d([2,2])(1))\n",
    "print(b(1))\n",
    "c=a+b\n",
    "print(c)\n",
    "c(1)"
   ]
  },
  {
   "cell_type": "code",
   "execution_count": null,
   "metadata": {},
   "outputs": [
    {
     "name": "stdout",
     "output_type": "stream",
     "text": [
      "-0.8414709848078965\n",
      "-0.32719469679615226\n",
      "0.32719469679615215\n",
      "0.8414709848078965\n",
      " \n",
      "-0.3272\n"
     ]
    }
   ],
   "source": [
    "x=np.linspace(-1,1,4)\n",
    "x1=np.linspace(-1,1,100)\n",
    "x1[1]\n",
    "y=np.sin(x)\n",
    "n=len(x)\n",
    "p=np.poly1d([0])\n",
    "for i in range(n):\n",
    "    pt=y[i]\n",
    "    print(y[i])\n",
    "    for j in range(n):\n",
    "        if j==i:\n",
    "            continue\n",
    "        frac=x[i]-x[j]\n",
    "        pt*=np.poly1d([1.0,-x[j]])(x[1])/frac\n",
    "        pass\n",
    "    p+=pt\n",
    "    pass\n",
    "print(p)  \n"
   ]
  },
  {
   "cell_type": "markdown",
   "metadata": {},
   "source": []
  },
  {
   "cell_type": "code",
   "execution_count": 12,
   "metadata": {},
   "outputs": [
    {
     "name": "stdout",
     "output_type": "stream",
     "text": [
      "h= 3.637189707302727\n"
     ]
    },
    {
     "data": {
      "text/plain": [
       "4"
      ]
     },
     "execution_count": 12,
     "metadata": {},
     "output_type": "execute_result"
    }
   ],
   "source": [
    "f=lambda x:x**2\n",
    "g=lambda x:math.sin(x)\n",
    "print('h=',g(2)*f(2))\n",
    "g(2)\n",
    "f(2)"
   ]
  }
 ],
 "metadata": {
  "kernelspec": {
   "display_name": "torch1",
   "language": "python",
   "name": "python3"
  },
  "language_info": {
   "codemirror_mode": {
    "name": "ipython",
    "version": 3
   },
   "file_extension": ".py",
   "mimetype": "text/x-python",
   "name": "python",
   "nbconvert_exporter": "python",
   "pygments_lexer": "ipython3",
   "version": "3.9.15"
  },
  "orig_nbformat": 4,
  "vscode": {
   "interpreter": {
    "hash": "841c84eeb6767aff07a8f3af0e117ab32e26dabb67579ddfee3fcde6336f15a7"
   }
  }
 },
 "nbformat": 4,
 "nbformat_minor": 2
}
