{
 "cells": [
  {
   "attachments": {},
   "cell_type": "markdown",
   "metadata": {},
   "source": [
    "## 切片索引\n",
    "### 一维数组"
   ]
  },
  {
   "cell_type": "code",
   "execution_count": 2,
   "metadata": {},
   "outputs": [],
   "source": [
    "import numpy as np\n"
   ]
  },
  {
   "cell_type": "code",
   "execution_count": 5,
   "metadata": {},
   "outputs": [
    {
     "data": {
      "text/plain": [
       "array([0, 1, 2, 3, 4, 5, 6, 7, 8, 9])"
      ]
     },
     "execution_count": 5,
     "metadata": {},
     "output_type": "execute_result"
    }
   ],
   "source": [
    "ar1=np.arange(10)\n",
    "ar1"
   ]
  },
  {
   "attachments": {},
   "cell_type": "markdown",
   "metadata": {},
   "source": [
    "### 索引从0开始， "
   ]
  },
  {
   "cell_type": "code",
   "execution_count": 9,
   "metadata": {},
   "outputs": [
    {
     "name": "stdout",
     "output_type": "stream",
     "text": [
      "[2 3 4 5 6 7 8 9]\n",
      "[0 1 2]\n",
      "[2 3]\n"
     ]
    }
   ],
   "source": [
    "print(ar1[2:])\n",
    "print(ar1[:3])\n",
    "print(ar1[2:4])#不包含右端点"
   ]
  },
  {
   "cell_type": "code",
   "execution_count": 10,
   "metadata": {},
   "outputs": [
    {
     "data": {
      "text/plain": [
       "array([9, 8, 7, 6, 5, 4, 3, 2, 1, 0])"
      ]
     },
     "execution_count": 10,
     "metadata": {},
     "output_type": "execute_result"
    }
   ],
   "source": [
    "ar1[::-1]#倒序取出"
   ]
  },
  {
   "attachments": {},
   "cell_type": "markdown",
   "metadata": {},
   "source": [
    "切片和区间忽略最后一个元素的好处"
   ]
  },
  {
   "cell_type": "code",
   "execution_count": 12,
   "metadata": {},
   "outputs": [
    {
     "name": "stdout",
     "output_type": "stream",
     "text": [
      "ar[:2]=[1 2],ar[2:]=[3 4 5 6]\n"
     ]
    }
   ],
   "source": [
    "ar=np.array([1,2,3,4,5,6])\n",
    "#在下标为2的位置开始分割\n",
    "print('ar[:2]={},ar[2:]={}'.format(ar[:2],ar[2:]))\n",
    "#"
   ]
  },
  {
   "attachments": {},
   "cell_type": "markdown",
   "metadata": {},
   "source": [
    "二维数组"
   ]
  },
  {
   "cell_type": "code",
   "execution_count": 14,
   "metadata": {},
   "outputs": [
    {
     "data": {
      "text/plain": [
       "array([[ 0,  1,  2,  3,  4],\n",
       "       [ 5,  6,  7,  8,  9],\n",
       "       [10, 11, 12, 13, 14],\n",
       "       [15, 16, 17, 18, 19]])"
      ]
     },
     "execution_count": 14,
     "metadata": {},
     "output_type": "execute_result"
    }
   ],
   "source": [
    "ar4_5=np.arange(20).reshape(4,5)\n",
    "ar4_5"
   ]
  },
  {
   "cell_type": "code",
   "execution_count": 18,
   "metadata": {},
   "outputs": [
    {
     "name": "stdout",
     "output_type": "stream",
     "text": [
      "dim: 2\n",
      "size: 20\n"
     ]
    }
   ],
   "source": [
    "print('dim:',ar4_5.ndim)\n",
    "print('size:',ar4_5.size)"
   ]
  },
  {
   "cell_type": "code",
   "execution_count": 20,
   "metadata": {},
   "outputs": [
    {
     "name": "stdout",
     "output_type": "stream",
     "text": [
      "[5 6 7 8 9]\n",
      "7\n"
     ]
    }
   ],
   "source": [
    "print(ar4_5[1])#取的是行\n",
    "print(ar4_5[1][2])"
   ]
  },
  {
   "cell_type": "code",
   "execution_count": 21,
   "metadata": {},
   "outputs": [
    {
     "data": {
      "text/plain": [
       "array([[0, 1, 2, 3, 4],\n",
       "       [5, 6, 7, 8, 9]])"
      ]
     },
     "execution_count": 21,
     "metadata": {},
     "output_type": "execute_result"
    }
   ],
   "source": [
    "ar4_5[:2]"
   ]
  },
  {
   "attachments": {},
   "cell_type": "markdown",
   "metadata": {},
   "source": [
    "使用... 可以返回所在列元素"
   ]
  },
  {
   "cell_type": "code",
   "execution_count": 23,
   "metadata": {},
   "outputs": [
    {
     "name": "stdout",
     "output_type": "stream",
     "text": [
      "[[ 0  1  2  3  4]\n",
      " [ 5  6  7  8  9]\n",
      " [10 11 12 13 14]\n",
      " [15 16 17 18 19]]\n"
     ]
    },
    {
     "data": {
      "text/plain": [
       "array([ 1,  6, 11, 16])"
      ]
     },
     "execution_count": 23,
     "metadata": {},
     "output_type": "execute_result"
    }
   ],
   "source": [
    "print(ar4_5)\n",
    "ar4_5[...,1]"
   ]
  },
  {
   "cell_type": "code",
   "execution_count": 25,
   "metadata": {},
   "outputs": [
    {
     "name": "stdout",
     "output_type": "stream",
     "text": [
      "13\n",
      "13\n"
     ]
    }
   ],
   "source": [
    "print(ar4_5[2,3])\n",
    "print(ar4_5[2][3])"
   ]
  },
  {
   "cell_type": "code",
   "execution_count": 30,
   "metadata": {},
   "outputs": [
    {
     "name": "stdout",
     "output_type": "stream",
     "text": [
      "ar4_5[1]: [5 6 7 8 9]\n",
      "ar4_5[...][1]: [5 6 7 8 9]\n",
      "ar4_5[1][...]: [5 6 7 8 9]\n"
     ]
    }
   ],
   "source": [
    "print('ar4_5[1]:',ar4_5[1])\n",
    "print('ar4_5[...][1]:',ar4_5[...][1])\n",
    "print('ar4_5[1][...]:',ar4_5[1][...])"
   ]
  },
  {
   "cell_type": "code",
   "execution_count": 33,
   "metadata": {},
   "outputs": [
    {
     "name": "stdout",
     "output_type": "stream",
     "text": [
      "0\n",
      "1\n",
      "2\n",
      "3\n",
      "4\n",
      "5\n",
      "6\n",
      "7\n"
     ]
    }
   ],
   "source": [
    "type(ar4_5[1][3])\n",
    "for i in range(ar4_5[1][3]):\n",
    "    print(i)"
   ]
  },
  {
   "attachments": {},
   "cell_type": "markdown",
   "metadata": {},
   "source": [
    "### 高级索引方式"
   ]
  },
  {
   "cell_type": "code",
   "execution_count": 34,
   "metadata": {},
   "outputs": [
    {
     "name": "stdout",
     "output_type": "stream",
     "text": [
      "[[1 2]\n",
      " [3 4]\n",
      " [5 6]]\n",
      "[1 4 5]\n"
     ]
    }
   ],
   "source": [
    "x=np.array([[1,2],[3,4],[5,6]])\n",
    "print(x)\n",
    "y=x[[0,1,2],[0,1,0]]#左边是行索引 右边是列索引 就是（0，0）（1，1）（2，0）\n",
    "print(y)"
   ]
  },
  {
   "cell_type": "code",
   "execution_count": 39,
   "metadata": {},
   "outputs": [
    {
     "name": "stdout",
     "output_type": "stream",
     "text": [
      "a=[ 0  2  9 11]\n",
      "b=[[ 0  1  2]\n",
      " [ 3  4  5]\n",
      " [ 6  7  8]\n",
      " [ 9 10 11]]\n",
      "r=[0 0 3 3]\n",
      "l=[0 2 0 2]\n",
      "s= [[ 0  2]\n",
      " [ 9 11]]\n"
     ]
    }
   ],
   "source": [
    "# 获得 四个顶点的值\n",
    "b=np.array([[0,1,2],[3,4,5],[6,7,8],[9,10,11]])\n",
    "a=b[[0,0,3,3],[0,2,0,2]]\n",
    "print('a={}\\nb={}'.format(a,b))\n",
    "r=np.array([[0,0],[3,3]]).reshape(4)\n",
    "l=np.array([[0,2],[0,2]]).reshape(4)\n",
    "print('r={}\\nl={}'.format(r,l))\n",
    "s=b[r,l].reshape((2,2))\n",
    "print('s=',s)"
   ]
  },
  {
   "cell_type": "code",
   "execution_count": 44,
   "metadata": {},
   "outputs": [
    {
     "name": "stdout",
     "output_type": "stream",
     "text": [
      "[[5 6]\n",
      " [8 9]]\n",
      "d= [[2 3]\n",
      " [5 6]\n",
      " [8 9]]\n"
     ]
    }
   ],
   "source": [
    "a=np.array([\n",
    "    [1,2,3],\n",
    "    [4,5,6],\n",
    "    [7,8,9]\n",
    "])\n",
    "#取得2行和3行 2列和3列\n",
    "b=a[1:3,1:3]\n",
    "print(b)\n",
    "d=a[...,1:]\n",
    "print('d=',d)"
   ]
  },
  {
   "attachments": {
    "image.png": {
     "image/png": "[encoded data removed]"
    }
   },
   "cell_type": "markdown",
   "metadata": {},
   "source": [
    "![image.png](attachment:image.png)"
   ]
  },
  {
   "cell_type": "code",
   "execution_count": 51,
   "metadata": {},
   "outputs": [
    {
     "name": "stdout",
     "output_type": "stream",
     "text": [
      "[[0 0 0 0 0 0 0 0]\n",
      " [0 0 0 0 0 0 0 0]\n",
      " [0 0 0 0 0 0 0 0]\n",
      " [0 0 0 0 0 0 0 0]\n",
      " [0 0 0 0 0 0 0 0]\n",
      " [0 0 0 0 0 0 0 0]\n",
      " [0 0 0 0 0 0 0 0]\n",
      " [0 0 0 0 0 0 0 0]]\n",
      "[[0 1 0 1 0 1 0 1]\n",
      " [1 0 1 0 1 0 1 0]\n",
      " [0 1 0 1 0 1 0 1]\n",
      " [1 0 1 0 1 0 1 0]\n",
      " [0 1 0 1 0 1 0 1]\n",
      " [1 0 1 0 1 0 1 0]\n",
      " [0 1 0 1 0 1 0 1]\n",
      " [1 0 1 0 1 0 1 0]]\n"
     ]
    }
   ],
   "source": [
    "z=np.zeros((8,8),dtype='int')\n",
    "print(z)\n",
    "z[1::2,::2]=1\n",
    "z[::2,1::2]=1\n",
    "print(z)"
   ]
  },
  {
   "attachments": {},
   "cell_type": "markdown",
   "metadata": {},
   "source": [
    "## 布尔数组索引"
   ]
  },
  {
   "cell_type": "code",
   "execution_count": 5,
   "metadata": {},
   "outputs": [
    {
     "data": {
      "text/plain": [
       "array([ 7,  8,  9, 10, 11])"
      ]
     },
     "execution_count": 5,
     "metadata": {},
     "output_type": "execute_result"
    }
   ],
   "source": [
    "#将大于6的数字取出来组成一个数组\n",
    "x=np.array([[0,1,2],[3,4,5],[6,7,8],[9,10,11]])\n",
    "x[x>6]\n"
   ]
  },
  {
   "cell_type": "code",
   "execution_count": 17,
   "metadata": {},
   "outputs": [
    {
     "data": {
      "text/plain": [
       "array([[ 0, -1,  2],\n",
       "       [-1,  4, -1],\n",
       "       [ 6, -1,  8],\n",
       "       [-1, 10, -1]])"
      ]
     },
     "execution_count": 17,
     "metadata": {},
     "output_type": "execute_result"
    }
   ],
   "source": [
    "x[x%2==1]=-1#将每个奇数都换为-1\n",
    "x\n"
   ]
  },
  {
   "cell_type": "code",
   "execution_count": 9,
   "metadata": {},
   "outputs": [
    {
     "name": "stdout",
     "output_type": "stream",
     "text": [
      "2.5\n",
      "2\n"
     ]
    }
   ],
   "source": [
    "2/5\n",
    "print(5/2)\n",
    "print(5//2)"
   ]
  },
  {
   "attachments": {},
   "cell_type": "markdown",
   "metadata": {},
   "source": [
    "### &和 ｜或"
   ]
  },
  {
   "cell_type": "code",
   "execution_count": 21,
   "metadata": {},
   "outputs": [
    {
     "name": "stdout",
     "output_type": "stream",
     "text": [
      "[[ 2  3  4]\n",
      " [ 5  6  7]\n",
      " [ 8  9 10]]\n"
     ]
    },
    {
     "data": {
      "text/plain": [
       "array([4, 5])"
      ]
     },
     "execution_count": 21,
     "metadata": {},
     "output_type": "execute_result"
    }
   ],
   "source": [
    "x=np.array([[2,3,4],[5,6,7],[8,9,10]])\n",
    "print(x)\n",
    "x[(x>3)&(x<6)]\n"
   ]
  },
  {
   "cell_type": "code",
   "execution_count": 23,
   "metadata": {},
   "outputs": [
    {
     "data": {
      "text/plain": [
       "array([ 2,  3,  4,  8,  9, 10])"
      ]
     },
     "execution_count": 23,
     "metadata": {},
     "output_type": "execute_result"
    }
   ],
   "source": [
    "x[(x<5)|(x>7)]"
   ]
  },
  {
   "attachments": {},
   "cell_type": "markdown",
   "metadata": {},
   "source": [
    "### Ture和False表示需要和不需要的数据"
   ]
  },
  {
   "cell_type": "code",
   "execution_count": 26,
   "metadata": {},
   "outputs": [
    {
     "data": {
      "text/plain": [
       "array([[ 0,  1,  2,  3,  4],\n",
       "       [ 5,  6,  7,  8,  9],\n",
       "       [10, 11, 12, 13, 14],\n",
       "       [15, 16, 17, 18, 19]])"
      ]
     },
     "execution_count": 26,
     "metadata": {},
     "output_type": "execute_result"
    }
   ],
   "source": [
    "a34=np.arange(20).reshape((4,5))\n",
    "a34"
   ]
  },
  {
   "cell_type": "code",
   "execution_count": 42,
   "metadata": {},
   "outputs": [
    {
     "name": "stdout",
     "output_type": "stream",
     "text": [
      "True\n"
     ]
    },
    {
     "data": {
      "text/plain": [
       "[[array([5, 6, 7, 8, 9])], [array([15, 16, 17, 18, 19])]]"
      ]
     },
     "execution_count": 42,
     "metadata": {},
     "output_type": "execute_result"
    }
   ],
   "source": [
    "a11=([[a34[1]],[a34[3]]])\n",
    "print(a34[1,2]==a34[1][2])#等价的\n",
    "a11"
   ]
  },
  {
   "cell_type": "code",
   "execution_count": 33,
   "metadata": {},
   "outputs": [
    {
     "data": {
      "text/plain": [
       "array([[ 5,  6,  7,  8,  9],\n",
       "       [15, 16, 17, 18, 19]])"
      ]
     },
     "execution_count": 33,
     "metadata": {},
     "output_type": "execute_result"
    }
   ],
   "source": [
    "row1=np.array([False,True,False,True])\n",
    "column1=np.array([False,True,True,True,False])\n",
    "a34[row1]"
   ]
  },
  {
   "cell_type": "code",
   "execution_count": 34,
   "metadata": {},
   "outputs": [
    {
     "data": {
      "text/plain": [
       "array([[ 1,  2,  3],\n",
       "       [ 6,  7,  8],\n",
       "       [11, 12, 13],\n",
       "       [16, 17, 18]])"
      ]
     },
     "execution_count": 34,
     "metadata": {},
     "output_type": "execute_result"
    }
   ],
   "source": [
    "a34[:,column1]"
   ]
  },
  {
   "cell_type": "code",
   "execution_count": 43,
   "metadata": {},
   "outputs": [
    {
     "name": "stdout",
     "output_type": "stream",
     "text": [
      "[[ 0  1  2  3  4]\n",
      " [ 5  6  7  8  9]\n",
      " [10 11 12 13 14]\n",
      " [15 16 17 18 19]]\n",
      "[ 6 12]\n"
     ]
    }
   ],
   "source": [
    "print(a34)\n",
    "print(a34[[1,2],[1,2]])"
   ]
  },
  {
   "attachments": {},
   "cell_type": "markdown",
   "metadata": {},
   "source": [
    "### 选择第一行和最后一行的第1，3，4 列 先选择行，在选择列"
   ]
  },
  {
   "cell_type": "code",
   "execution_count": 51,
   "metadata": {},
   "outputs": [
    {
     "name": "stdout",
     "output_type": "stream",
     "text": [
      "[[ 0  1  2  3  4]\n",
      " [ 5  6  7  8  9]\n",
      " [10 11 12 13 14]\n",
      " [15 16 17 18 19]]\n",
      "[15 16 17 18 19]\n",
      "[[ 0  1  2  3  4]\n",
      " [15 16 17 18 19]]\n"
     ]
    }
   ],
   "source": [
    "print(a34)\n",
    "print(a34[-1])#-1 倒数第一行 -2倒数第二行\n",
    "print(a34[[0,-1],:])#先取行"
   ]
  },
  {
   "cell_type": "code",
   "execution_count": 52,
   "metadata": {},
   "outputs": [
    {
     "data": {
      "text/plain": [
       "array([[ 0,  2,  3],\n",
       "       [15, 17, 18]])"
      ]
     },
     "execution_count": 52,
     "metadata": {},
     "output_type": "execute_result"
    }
   ],
   "source": [
    "b1=a34[[0,-1],:]\n",
    "b1[:,[0,2,3]]# 在取列\n"
   ]
  },
  {
   "cell_type": "code",
   "execution_count": 56,
   "metadata": {},
   "outputs": [
    {
     "name": "stdout",
     "output_type": "stream",
     "text": [
      "[  0   1  10 100 100   5   6   7   8   9]\n"
     ]
    },
    {
     "data": {
      "text/plain": [
       "array([  0,   1,  10, 100, 100,   5,   6,   7,   8,   9])"
      ]
     },
     "execution_count": 56,
     "metadata": {},
     "output_type": "execute_result"
    }
   ],
   "source": [
    "ar=np.arange(10)\n",
    "ar[2]=10\n",
    "ar[3:5]=100\n",
    "print(ar)\n",
    "b=ar.copy()\n",
    "b"
   ]
  },
  {
   "attachments": {},
   "cell_type": "markdown",
   "metadata": {},
   "source": [
    "### 广播机制 是 numpy对不同shape的数组进行数值计算的方式\n",
    "如果数组a和b形状相同 满足a.shape==b.shape 那么a*b的结果就是对应位相乘，要求维数相同"
   ]
  },
  {
   "cell_type": "code",
   "execution_count": 59,
   "metadata": {},
   "outputs": [
    {
     "name": "stdout",
     "output_type": "stream",
     "text": [
      "a*b= [ 1  4  9 16]\n",
      "[ 1  4  9 16]\n"
     ]
    }
   ],
   "source": [
    "a=np.array([1,2,3,4])\n",
    "b=np.array([1,2,3,4])\n",
    "print('a*b=',a*b)\n",
    "print(a**2)"
   ]
  },
  {
   "attachments": {},
   "cell_type": "markdown",
   "metadata": {},
   "source": [
    "如果维数不一样了 ，广播机制就是为了处理这种\n",
    "核心是 对形状较小的数组，在横向和纵向上进行一定次数的重复，在形状的就有了相同的维度"
   ]
  },
  {
   "cell_type": "code",
   "execution_count": 62,
   "metadata": {},
   "outputs": [
    {
     "name": "stdout",
     "output_type": "stream",
     "text": [
      "[[ 0  0  0  0]\n",
      " [10 10 10 10]\n",
      " [20 20 20 20]\n",
      " [30 30 30 30]]\n",
      "a*B= [[  0   0   0   0]\n",
      " [ 10  20  30  40]\n",
      " [ 20  40  60  80]\n",
      " [ 30  60  90 120]]\n",
      "a+b: [[ 1  2  3  4]\n",
      " [11 12 13 14]\n",
      " [21 22 23 24]\n",
      " [31 32 33 34]]\n"
     ]
    }
   ],
   "source": [
    "a=np.array([\n",
    "    [0,0,0,0],\n",
    "    [10,10,10,10],\n",
    "    [20,20,20,20],\n",
    "    [30,30,30,30]\n",
    "])\n",
    "print(a)\n",
    "b=np.array([1,2,3,4])\n",
    "print('a*B=',a*b)\n",
    "print('a+b:',a+b)"
   ]
  },
  {
   "attachments": {},
   "cell_type": "markdown",
   "metadata": {},
   "source": [
    "## 广播体制的例子"
   ]
  },
  {
   "cell_type": "code",
   "execution_count": 64,
   "metadata": {},
   "outputs": [
    {
     "name": "stdout",
     "output_type": "stream",
     "text": [
      "a= [[0 1 2]\n",
      " [3 4 5]]\n",
      "a*b= [[ 0  5 10]\n",
      " [15 20 25]]\n",
      "<class 'numpy.ndarray'>\n"
     ]
    }
   ],
   "source": [
    "a=np.arange(6).reshape(2,3)\n",
    "print('a=',a)\n",
    "b=np.array([5])\n",
    "print('a*b=',a*b)\n",
    "print(type(b))"
   ]
  },
  {
   "cell_type": "code",
   "execution_count": 68,
   "metadata": {},
   "outputs": [
    {
     "name": "stdout",
     "output_type": "stream",
     "text": [
      "[[[0 1 2]]\n",
      "\n",
      " [[3 4 5]]]\n"
     ]
    }
   ],
   "source": [
    "a=np.arange(6).reshape(2,1,3)# （2，1，3）分别是 个数 行数 列数\n",
    "print(a)"
   ]
  }
 ],
 "metadata": {
  "kernelspec": {
   "display_name": "torch1",
   "language": "python",
   "name": "python3"
  },
  "language_info": {
   "codemirror_mode": {
    "name": "ipython",
    "version": 3
   },
   "file_extension": ".py",
   "mimetype": "text/x-python",
   "name": "python",
   "nbconvert_exporter": "python",
   "pygments_lexer": "ipython3",
   "version": "3.9.15"
  },
  "orig_nbformat": 4,
  "vscode": {
   "interpreter": {
    "hash": "841c84eeb6767aff07a8f3af0e117ab32e26dabb67579ddfee3fcde6336f15a7"
   }
  }
 },
 "nbformat": 4,
 "nbformat_minor": 2
}
